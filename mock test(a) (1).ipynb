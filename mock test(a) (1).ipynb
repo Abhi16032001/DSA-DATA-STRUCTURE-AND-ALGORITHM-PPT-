{
 "cells": [
  {
   "cell_type": "markdown",
   "id": "0a20ef80-29a9-42c2-9b0d-0a11383730a7",
   "metadata": {},
   "source": [
    "Move Zeroes\n",
    "Given an integer array nums, move all 0's to the end of it while maintaining the relative order of the non-zero elements.\n",
    "\n",
    "Note that you must do this in-place without making a copy of the array.\n",
    "\n",
    "Constraints:\n",
    "a. 1 <= nums.length <= 10^4\n",
    "b. -2^31 <= nums[i] <= 2^31 - 1\n",
    "\n"
   ]
  },
  {
   "cell_type": "markdown",
   "id": "dfc4049f-7144-4f16-8500-4deef0ab1282",
   "metadata": {},
   "source": [
    "Example 1:\n",
    "Input: nums = [0,1,0,3,12]\n",
    "Output: [1,3,12,0,0]"
   ]
  },
  {
   "cell_type": "code",
   "execution_count": 1,
   "id": "2153f1ff-45db-46ca-bb59-a49654c4c758",
   "metadata": {},
   "outputs": [
    {
     "name": "stdout",
     "output_type": "stream",
     "text": [
      "[1, 3, 12, 0, 0]\n"
     ]
    }
   ],
   "source": [
    "def moveZeroes(nums):\n",
    "    \n",
    "    lastNonZero = 0\n",
    "    for i in range(len(nums)):\n",
    "       \n",
    "        if nums[i] != 0:\n",
    "            nums[i], nums[lastNonZero] = nums[lastNonZero], nums[i]\n",
    "            lastNonZero += 1\n",
    "\n",
    "\n",
    "nums = [0, 1, 0, 3, 12]\n",
    "moveZeroes(nums)\n",
    "print(nums)\n"
   ]
  },
  {
   "cell_type": "markdown",
   "id": "a54b1693-1748-487f-9677-c4a6d02866d8",
   "metadata": {},
   "source": [
    "Example 2:\n",
    "Input: nums = [0]\n",
    "Output: [0]\n"
   ]
  },
  {
   "cell_type": "code",
   "execution_count": 2,
   "id": "5083945b-7667-43cd-b4d7-b9e7129b5b1b",
   "metadata": {},
   "outputs": [
    {
     "name": "stdout",
     "output_type": "stream",
     "text": [
      "[0]\n"
     ]
    }
   ],
   "source": [
    "def moveZeroes(nums):\n",
    "    \n",
    "    insertPos = 0\n",
    "    \n",
    "    for num in nums:\n",
    "        \n",
    "        if num != 0:\n",
    "            nums[insertPos] = num\n",
    "            insertPos += 1\n",
    "    \n",
    "    while insertPos < len(nums):\n",
    "        nums[insertPos] = 0\n",
    "        insertPos += 1\n",
    "\n",
    "\n",
    "nums = [0]\n",
    "moveZeroes(nums)\n",
    "print(nums)\n"
   ]
  },
  {
   "cell_type": "markdown",
   "id": "a890104c-5c56-4d61-8c35-00eaf188a6d6",
   "metadata": {},
   "source": [
    "First Unique Character in a String\n",
    "\n",
    "Given a string s, find the first non-repeating character in it and return its index. If it does not exist, return -1.\n",
    "\n",
    "Constraints:\n",
    "a. 1 <= s.length <= 10^5\n",
    "b. s consists of only lowercase English letters.\n",
    "\n",
    "Example 1:\n",
    "Input: s = \"leetcode\"\n",
    "Output: 0"
   ]
  },
  {
   "cell_type": "code",
   "execution_count": null,
   "id": "6f674c5a-6aed-4c0b-8cb8-3ef93836ec3b",
   "metadata": {},
   "outputs": [],
   "source": [
    "First Unique Character in a String\n",
    "\n",
    "Given a string s, find the first non-repeating character in it and return its index. If it does not exist, return -1.\n",
    "\n",
    "Constraints:\n",
    "a. 1 <= s.length <= 10^5\n",
    "b. s consists of only lowercase English letters.\n",
    "\n",
    "Example 1:\n",
    "Input: s = \"leetcode\"\n",
    "Output: 0"
   ]
  }
 ],
 "metadata": {
  "kernelspec": {
   "display_name": "Python 3 (ipykernel)",
   "language": "python",
   "name": "python3"
  },
  "language_info": {
   "codemirror_mode": {
    "name": "ipython",
    "version": 3
   },
   "file_extension": ".py",
   "mimetype": "text/x-python",
   "name": "python",
   "nbconvert_exporter": "python",
   "pygments_lexer": "ipython3",
   "version": "3.10.8"
  }
 },
 "nbformat": 4,
 "nbformat_minor": 5
}
